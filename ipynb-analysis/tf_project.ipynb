{
 "metadata": {
  "language_info": {
   "codemirror_mode": {
    "name": "ipython",
    "version": 3
   },
   "file_extension": ".py",
   "mimetype": "text/x-python",
   "name": "python",
   "nbconvert_exporter": "python",
   "pygments_lexer": "ipython3",
   "version": 3
  },
  "orig_nbformat": 2
 },
 "nbformat": 4,
 "nbformat_minor": 2,
 "cells": [
  {
   "cell_type": "code",
   "execution_count": null,
   "metadata": {},
   "outputs": [],
   "source": [
    "import tensorflow as tf\n",
    "num_players, num_features = 20, 10\n",
    "\n",
    "\n",
    "# model input branch for team-1 (analogous to computing synergy)\n",
    "team1_input = tf.keras.layers.Input(shape=[num_players, num_features])\n",
    "team1_conv1 = tf.keras.layers.Conv1D(3, 5)(team1_input)\n",
    "team1_pooling = tf.keras.layers.AveragePooling1D(pool_size=2)(team1_conv1)\n",
    "team1_flatten = tf.keras.layers.Flatten()(team1_pooling)\n",
    "team1_layer1 = tf.keras.layers.Dense(32, activation='relu')(team1_flatten)\n",
    "team1_layer2 = tf.keras.layers.Dense(num_features, activation='relu')\n",
    "\n",
    "# model input branch for team-2 (analogous to computing synergy)\n",
    "team2_input = tf.keras.layers.Input(shape=[num_players, num_features])\n",
    "team2_conv1 = tf.keras.layers.Conv1D(3, 5)(team1_input)\n",
    "team2_pooling = tf.keras.layers.AveragePooling1D(pool_size=2)(team1_conv1)\n",
    "team2_flatten = tf.keras.layers.Flatten()(team1_pooling)\n",
    "team2_layer1 = tf.keras.layers.Dense(32, activation='relu')(team1_flatten)\n",
    "team2_layer2 = tf.keras.layers.Dense(num_features, activation='relu')\n",
    "\n",
    "# concatenate branches and propogate for final matchup\n",
    "concat_layer = tf.keras.layers.Concatenate()([team1_layer2, team2_layer2])\n",
    "concat_dense1 = tf.keras.layers.Concatenate(32, activation='relu')(concat_layer)\n",
    "concat_dropout = tf.keras.layers.Dropout(.5)(concat_dense1)\n",
    "output = tf.keras.layers.Dense(1, activation='sigmoid')(concat_dropout)\n",
    "\n"
   ]
  },
  {
   "cell_type": "code",
   "execution_count": null,
   "metadata": {},
   "outputs": [],
   "source": [
    "# define and compile model\n",
    "model = tf.keras.Model(inputs=[team1_input, team2_input], outputs=[output])\n",
    "model.compile(optimizer=tf.keras.optimizers.RMSprop(), loss='mse')"
   ]
  }
 ]
}